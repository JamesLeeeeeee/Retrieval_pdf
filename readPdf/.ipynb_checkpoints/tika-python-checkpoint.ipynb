{
 "cells": [
  {
   "cell_type": "code",
   "execution_count": null,
   "id": "81755baa",
   "metadata": {},
   "outputs": [],
   "source": [
    "from tika import parser"
   ]
  },
  {
   "cell_type": "code",
   "execution_count": null,
   "id": "04ecddab",
   "metadata": {},
   "outputs": [],
   "source": [
    "data = parser.from_file('/mnt/llm/t/test.pdf')"
   ]
  },
  {
   "cell_type": "code",
   "execution_count": null,
   "id": "39517c0f",
   "metadata": {},
   "outputs": [],
   "source": [
    "import tika"
   ]
  },
  {
   "cell_type": "code",
   "execution_count": null,
   "id": "85761c6c",
   "metadata": {},
   "outputs": [],
   "source": [
    "data['metadata']"
   ]
  },
  {
   "cell_type": "code",
   "execution_count": null,
   "id": "e39d717a",
   "metadata": {},
   "outputs": [],
   "source": [
    "data['content']"
   ]
  },
  {
   "cell_type": "code",
   "execution_count": null,
   "id": "17e25532",
   "metadata": {},
   "outputs": [],
   "source": [
    "print(data['content'])"
   ]
  }
 ],
 "metadata": {
  "kernelspec": {
   "display_name": "Python 3 (ipykernel)",
   "language": "python",
   "name": "python3"
  },
  "language_info": {
   "codemirror_mode": {
    "name": "ipython",
    "version": 3
   },
   "file_extension": ".py",
   "mimetype": "text/x-python",
   "name": "python",
   "nbconvert_exporter": "python",
   "pygments_lexer": "ipython3",
   "version": "3.9.9"
  }
 },
 "nbformat": 4,
 "nbformat_minor": 5
}
